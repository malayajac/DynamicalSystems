{
 "cells": [
  {
   "cell_type": "code",
   "execution_count": 1,
   "metadata": {},
   "outputs": [],
   "source": [
    "import numpy as np\n",
    "import matplotlib.pyplot as plt"
   ]
  },
  {
   "cell_type": "code",
   "execution_count": 2,
   "metadata": {},
   "outputs": [],
   "source": [
    "# Initialize coods of vertices of a square of side length=1:\n",
    "v1 = [0.0, 0.0]\n",
    "v2 = [1.0, 0.0]\n",
    "v3 = [1.0, 1.0]\n",
    "v4 = [0.0, 1.0]"
   ]
  },
  {
   "cell_type": "code",
   "execution_count": 3,
   "metadata": {},
   "outputs": [],
   "source": [
    "# N = 10**4 #number of points I will plot\n",
    "N = 2*10**4 #number of points I will plot"
   ]
  },
  {
   "cell_type": "code",
   "execution_count": 4,
   "metadata": {},
   "outputs": [
    {
     "name": "stdout",
     "output_type": "stream",
     "text": [
      "0.6970115464421169 0.03487230515120332\n"
     ]
    }
   ],
   "source": [
    "# IC:\n",
    "px = np.random.random()\n",
    "py = np.random.random()\n",
    "print(px, py)"
   ]
  },
  {
   "cell_type": "code",
   "execution_count": 5,
   "metadata": {},
   "outputs": [],
   "source": [
    "CoinTossFaces = set([1, 2, 3, 4])"
   ]
  },
  {
   "cell_type": "code",
   "execution_count": 6,
   "metadata": {},
   "outputs": [
    {
     "data": {
      "image/png": "[encoded data removed]",
      "text/plain": [
       "<Figure size 432x288 with 1 Axes>"
      ]
     },
     "metadata": {
      "needs_background": "light"
     },
     "output_type": "display_data"
    },
    {
     "name": "stdout",
     "output_type": "stream",
     "text": [
      "CPU times: user 5min 11s, sys: 1.12 s, total: 5min 12s\n",
      "Wall time: 5min 13s\n"
     ]
    }
   ],
   "source": [
    "%%time\n",
    "fig = plt.figure()\n",
    "ax = fig.add_axes([0, 0, 1, 1])\n",
    "\n",
    "ax.plot(v1[0], v1[1], \"k,\")\n",
    "ax.plot(v2[0], v2[1], \"k,\")\n",
    "ax.plot(v3[0], v3[1], \"k,\")\n",
    "ax.plot(v4[0], v4[1], \"k,\")\n",
    "\n",
    "toss = np.random.choice(list(CoinTossFaces))\n",
    "for ii in range(N):\n",
    "    if toss==1: CoinTossFacesNew = set([1, 2, 4])\n",
    "    elif toss==2: CoinTossFacesNew = set([1, 2, 3])\n",
    "    elif toss==3: CoinTossFacesNew = set([2, 3, 4])\n",
    "    elif toss==4: CoinTossFacesNew = set([1, 3, 4])\n",
    "    \n",
    "    toss = np.random.choice(list(CoinTossFacesNew))\n",
    "    \n",
    "    if toss==1:\n",
    "        pxnew = (1./2)*(px - v1[0]) + v1[0]\n",
    "        pynew = (1./2)*(py - v1[1]) + v1[1]\n",
    "    \n",
    "    elif toss==2:\n",
    "        pxnew = (1./2)*(v2[0] - px) + px\n",
    "        pynew = (1./2)*(py - v2[1]) + v2[1]\n",
    "    \n",
    "    elif toss==3:\n",
    "        pxnew = (1./2)*(v3[0] - px) + px\n",
    "        pynew = (1./2)*(v3[1] - py) + py\n",
    "\n",
    "    elif toss==4:\n",
    "        pxnew = (1./2)*(px - v4[0]) + v4[0]\n",
    "        pynew = (1./2)*(v4[1] - py) + py\n",
    "    \n",
    "    px = pxnew\n",
    "    py = pynew\n",
    "    \n",
    "    ax.plot(px, py, \"k,\")\n",
    "\n",
    "ax.grid()\n",
    "ax.set_aspect(\"equal\")\n",
    "plt.show()"
   ]
  },
  {
   "cell_type": "code",
   "execution_count": null,
   "metadata": {},
   "outputs": [],
   "source": []
  }
 ],
 "metadata": {
  "kernelspec": {
   "display_name": "Python 3",
   "language": "python",
   "name": "python3"
  },
  "language_info": {
   "codemirror_mode": {
    "name": "ipython",
    "version": 3
   },
   "file_extension": ".py",
   "mimetype": "text/x-python",
   "name": "python",
   "nbconvert_exporter": "python",
   "pygments_lexer": "ipython3",
   "version": "3.6.8"
  }
 },
 "nbformat": 4,
 "nbformat_minor": 2
}
