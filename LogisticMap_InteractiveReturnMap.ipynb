{
 "cells": [
  {
   "cell_type": "markdown",
   "metadata": {},
   "source": [
    "#### Interactive Return Map for Logistic Map"
   ]
  },
  {
   "cell_type": "code",
   "execution_count": 1,
   "metadata": {},
   "outputs": [],
   "source": [
    "import numpy as np\n",
    "import matplotlib.pyplot as plt\n",
    "import ipywidgets as widgets\n",
    "from IPython.display import display\n",
    "from ipywidgets import interact"
   ]
  },
  {
   "cell_type": "code",
   "execution_count": 2,
   "metadata": {},
   "outputs": [],
   "source": [
    "def LogisticFn(mu, xn):\n",
    "    return mu * xn * (1 - xn)"
   ]
  },
  {
   "cell_type": "code",
   "execution_count": 3,
   "metadata": {},
   "outputs": [],
   "source": [
    "def LogisticReturnMapAndCobWeb(mu):\n",
    "    x = np.linspace(0, 1, 1001)\n",
    "    f = LogisticFn(mu, x)\n",
    "    #-----\n",
    "    N = 140  #Make this an even number.\n",
    "    \n",
    "    CobWeb = [np.random.random()]\n",
    "    \n",
    "    for ii in range(N-1):\n",
    "        CobWeb.append(LogisticFn(mu, CobWeb[ii]))\n",
    "\n",
    "    CobWeb_x = []\n",
    "    for n in range(int(N/2)):\n",
    "        CobWeb_x.append(CobWeb[n])\n",
    "        CobWeb_x.append(CobWeb[n])\n",
    "    \n",
    "    CobWeb_y = [0]\n",
    "    for n in range(1, int(N/2)):\n",
    "        CobWeb_y.append(CobWeb[n])\n",
    "        CobWeb_y.append(CobWeb[n])\n",
    "    CobWeb_y.append(CobWeb[n+1])\n",
    "    #-----\n",
    "    fig = plt.figure()\n",
    "    ax = fig.add_axes([0, 0, 1, 1])\n",
    "    \n",
    "    ax.plot(x, f, \"C0\")\n",
    "    ax.plot(x, x, \"C1\")\n",
    "    ax.plot(CobWeb_x, CobWeb_y, 'r,-', alpha=0.7)\n",
    "    ax.plot(CobWeb_x[-20:], CobWeb_y[-20:], 'k.-')\n",
    "\n",
    "    ax.set_xlabel(\"$x_{n}$\", fontsize=20)\n",
    "    ax.set_ylabel(\"$x_{n+1}$\", fontsize=20)\n",
    "    ax.set_title(\"$\\mu$={}\".format(mu), fontsize=20)\n",
    "    \n",
    "    ax.set_xlim([0, 1])\n",
    "    ax.set_ylim([0, 1])\n",
    "    \n",
    "    ax.grid(True)\n",
    "    plt.show()\n",
    "    #-----"
   ]
  },
  {
   "cell_type": "code",
   "execution_count": 4,
   "metadata": {},
   "outputs": [
    {
     "data": {
      "application/vnd.jupyter.widget-view+json": {
       "model_id": "bad4e0f61cdc42bca442492cfa8b4cd3",
       "version_major": 2,
       "version_minor": 0
      },
      "text/plain": [
       "interactive(children=(FloatSlider(value=2.5, description='$\\\\mu$:', max=4.0, step=0.01), Output()), _dom_class…"
      ]
     },
     "metadata": {},
     "output_type": "display_data"
    },
    {
     "data": {
      "text/plain": [
       "<function __main__.LogisticReturnMapAndCobWeb(mu)>"
      ]
     },
     "execution_count": 4,
     "metadata": {},
     "output_type": "execute_result"
    }
   ],
   "source": [
    "MuSlider = widgets.FloatSlider(min=0, max=4, step=0.01,\n",
    "                               description='$\\mu$:', value=2.5)\n",
    "interact(LogisticReturnMapAndCobWeb, mu=MuSlider)"
   ]
  },
  {
   "cell_type": "code",
   "execution_count": null,
   "metadata": {},
   "outputs": [],
   "source": []
  }
 ],
 "metadata": {
  "kernelspec": {
   "display_name": "Python 3",
   "language": "python",
   "name": "python3"
  },
  "language_info": {
   "codemirror_mode": {
    "name": "ipython",
    "version": 3
   },
   "file_extension": ".py",
   "mimetype": "text/x-python",
   "name": "python",
   "nbconvert_exporter": "python",
   "pygments_lexer": "ipython3",
   "version": "3.6.8"
  }
 },
 "nbformat": 4,
 "nbformat_minor": 2
}
