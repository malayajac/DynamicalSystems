{
 "cells": [
  {
   "cell_type": "markdown",
   "metadata": {},
   "source": [
    "Playing around with plotting the Mandelbrot set some more. And trying to speed things up using numba."
   ]
  },
  {
   "cell_type": "markdown",
   "metadata": {},
   "source": [
    "What's the Mandelbrot set?<br>\n",
    "It's the set of complex numbers $c$, for which the function $f_{c}(z) = z^{2} + c$ does not diverge when iterated from $z = 0$."
   ]
  },
  {
   "cell_type": "markdown",
   "metadata": {},
   "source": [
    "Here, assume that the sequence $\\{z_{0}, z_{1}, z_{2}, ..., z_{n}\\}$ diverges if the $|z_{n}|>2$. Ok? Ok."
   ]
  },
  {
   "cell_type": "markdown",
   "metadata": {},
   "source": [
    "In the plot, the number of iterations to reach the above definition of \"unboundedness\" will determine the color of the pixel."
   ]
  },
  {
   "cell_type": "code",
   "execution_count": 1,
   "metadata": {},
   "outputs": [],
   "source": [
    "import numpy as np\n",
    "import matplotlib.pyplot as plt"
   ]
  },
  {
   "cell_type": "code",
   "execution_count": 2,
   "metadata": {},
   "outputs": [
    {
     "name": "stdout",
     "output_type": "stream",
     "text": [
      "3.6.8 |Anaconda, Inc.| (default, Dec 29 2018, 19:04:46) \n",
      "[GCC 4.2.1 Compatible Clang 4.0.1 (tags/RELEASE_401/final)]\n"
     ]
    }
   ],
   "source": [
    "import sys\n",
    "print(sys.version)"
   ]
  },
  {
   "cell_type": "code",
   "execution_count": 3,
   "metadata": {},
   "outputs": [
    {
     "data": {
      "text/plain": [
       "'1.16.4'"
      ]
     },
     "execution_count": 3,
     "metadata": {},
     "output_type": "execute_result"
    }
   ],
   "source": [
    "np.__version__"
   ]
  },
  {
   "cell_type": "code",
   "execution_count": 4,
   "metadata": {},
   "outputs": [
    {
     "data": {
      "text/plain": [
       "'3.0.2'"
      ]
     },
     "execution_count": 4,
     "metadata": {},
     "output_type": "execute_result"
    }
   ],
   "source": [
    "import matplotlib\n",
    "matplotlib.__version__"
   ]
  },
  {
   "cell_type": "code",
   "execution_count": 5,
   "metadata": {},
   "outputs": [],
   "source": [
    "# left, right, bottom, top limits of the plot:\n",
    "w_left, w_right = -2.5, 1.5\n",
    "w_bottom, w_top = -1.5, 1.5"
   ]
  },
  {
   "cell_type": "code",
   "execution_count": 6,
   "metadata": {},
   "outputs": [],
   "source": [
    "max_iter = 100\n",
    "# This is the max iteration after which if the sequence is not unbounded,\n",
    "# it will be marked as unbounded."
   ]
  },
  {
   "cell_type": "code",
   "execution_count": 7,
   "metadata": {},
   "outputs": [],
   "source": [
    "NumOfPixels = 101\n",
    "# Number of \"pixels\" in the plot."
   ]
  },
  {
   "cell_type": "code",
   "execution_count": 8,
   "metadata": {},
   "outputs": [],
   "source": [
    "def ColorName(cc):\n",
    "    ColorName_List = [\"yellow\", \"orange\", \"mediumslateblue\", \"darkslateblue\",\n",
    "                      \"slateblue\", \"blue\", \"mediumblue\", \"darkblue\",\n",
    "                      \"navy\", \"midnightblue\", \"black\"]\n",
    "    ColorName = ColorName_List[cc]\n",
    "    return ColorName"
   ]
  },
  {
   "cell_type": "markdown",
   "metadata": {},
   "source": [
    "### Pure python code:"
   ]
  },
  {
   "cell_type": "code",
   "execution_count": 9,
   "metadata": {},
   "outputs": [],
   "source": [
    "def MyMandelbrotSetGen_py(w_left, w_right, w_bottom, w_top, NumOfPixels, max_iter):\n",
    "    #-----\n",
    "    def ColorNumber(num_iter):\n",
    "        if num_iter<=1: MyColorNum = 0\n",
    "        elif num_iter==2: MyColorNum = 1\n",
    "        elif num_iter==3: MyColorNum = 2\n",
    "        elif num_iter>=4 and num_iter<=6: MyColorNum = 3\n",
    "        elif num_iter>=7 and num_iter<=10: MyColorNum = 4\n",
    "        elif num_iter>=11 and num_iter<=30: MyColorNum = 5\n",
    "        elif num_iter>=31 and num_iter<=40: MyColorNum = 6\n",
    "        elif num_iter>=41 and num_iter<=50: MyColorNum = 7\n",
    "        elif num_iter>=51 and num_iter<=60: MyColorNum = 8\n",
    "        elif num_iter>=61 and num_iter<=70: MyColorNum = 9\n",
    "        elif num_iter>=71: MyColorNum = 10\n",
    "        return MyColorNum\n",
    "    #-----\n",
    "    ColorMatrix = np.zeros((NumOfPixels, NumOfPixels), dtype=np.int64)\n",
    "    for y_j, y in enumerate(np.linspace(w_bottom, w_top, NumOfPixels)):\n",
    "        for x_i, x in enumerate(np.linspace(w_left, w_right, NumOfPixels)):\n",
    "            c = np.complex(x, y)\n",
    "            n = 0\n",
    "            z = 0\n",
    "            while abs(z)<2 and n<max_iter:\n",
    "                z = z*z + c\n",
    "                n += 1\n",
    "            ColorMatrix[x_i, y_j] = ColorNumber(n)\n",
    "    \n",
    "    return ColorMatrix"
   ]
  },
  {
   "cell_type": "code",
   "execution_count": 10,
   "metadata": {
    "scrolled": true
   },
   "outputs": [
    {
     "name": "stdout",
     "output_type": "stream",
     "text": [
      "CPU times: user 61 ms, sys: 2.29 ms, total: 63.3 ms\n",
      "Wall time: 67.5 ms\n"
     ]
    }
   ],
   "source": [
    "%%time\n",
    "ColorMatrix_py = MyMandelbrotSetGen_py(w_left, w_right, w_bottom, w_top, NumOfPixels, max_iter)"
   ]
  },
  {
   "cell_type": "markdown",
   "metadata": {},
   "source": [
    "### Code using numba:"
   ]
  },
  {
   "cell_type": "code",
   "execution_count": 11,
   "metadata": {},
   "outputs": [],
   "source": [
    "from numba import njit"
   ]
  },
  {
   "cell_type": "code",
   "execution_count": 12,
   "metadata": {},
   "outputs": [],
   "source": [
    "@njit\n",
    "def MyMandelbrotSetGen_nb(w_left, w_right, w_bottom, w_top, NumOfPixels, max_iter):\n",
    "    #-----\n",
    "    def ColorNumber(num_iter):\n",
    "        if num_iter<=1: MyColorNum = 0\n",
    "        elif num_iter==2: MyColorNum = 1\n",
    "        elif num_iter==3: MyColorNum = 2\n",
    "        elif num_iter>=4 and num_iter<=6: MyColorNum = 3\n",
    "        elif num_iter>=7 and num_iter<=10: MyColorNum = 4\n",
    "        elif num_iter>=11 and num_iter<=30: MyColorNum = 5\n",
    "        elif num_iter>=31 and num_iter<=40: MyColorNum = 6\n",
    "        elif num_iter>=41 and num_iter<=50: MyColorNum = 7\n",
    "        elif num_iter>=51 and num_iter<=60: MyColorNum = 8\n",
    "        elif num_iter>=61 and num_iter<=70: MyColorNum = 9\n",
    "        elif num_iter>=71: MyColorNum = 10\n",
    "        return MyColorNum\n",
    "    #-----\n",
    "    ColorMatrix = np.zeros((NumOfPixels, NumOfPixels), dtype=np.int64)\n",
    "    for y_j, y in enumerate(np.linspace(w_bottom, w_top, NumOfPixels)):\n",
    "        for x_i, x in enumerate(np.linspace(w_left, w_right, NumOfPixels)):\n",
    "            c = np.complex(x, y)\n",
    "            n = 0\n",
    "            z = 0\n",
    "            while abs(z)<2 and n<max_iter:\n",
    "                z = z*z + c\n",
    "                n += 1\n",
    "            ColorMatrix[x_i, y_j] = ColorNumber(n)\n",
    "    \n",
    "    return ColorMatrix"
   ]
  },
  {
   "cell_type": "markdown",
   "metadata": {},
   "source": [
    "#### Running the code for the first time:"
   ]
  },
  {
   "cell_type": "code",
   "execution_count": 13,
   "metadata": {},
   "outputs": [
    {
     "name": "stdout",
     "output_type": "stream",
     "text": [
      "CPU times: user 656 ms, sys: 27.5 ms, total: 683 ms\n",
      "Wall time: 703 ms\n"
     ]
    }
   ],
   "source": [
    "%%time\n",
    "ColorMatrix_nb = MyMandelbrotSetGen_nb(w_left, w_right, w_bottom, w_top, NumOfPixels, max_iter)"
   ]
  },
  {
   "cell_type": "markdown",
   "metadata": {},
   "source": [
    "#### Running the code second time:"
   ]
  },
  {
   "cell_type": "code",
   "execution_count": 14,
   "metadata": {},
   "outputs": [
    {
     "name": "stdout",
     "output_type": "stream",
     "text": [
      "CPU times: user 1.35 ms, sys: 42 µs, total: 1.39 ms\n",
      "Wall time: 1.4 ms\n"
     ]
    }
   ],
   "source": [
    "%%time\n",
    "ColorMatrix_nb = MyMandelbrotSetGen_nb(w_left, w_right, w_bottom, w_top, NumOfPixels, max_iter)"
   ]
  },
  {
   "cell_type": "markdown",
   "metadata": {},
   "source": [
    "#### Let's run the code a third time:"
   ]
  },
  {
   "cell_type": "code",
   "execution_count": 15,
   "metadata": {},
   "outputs": [
    {
     "name": "stdout",
     "output_type": "stream",
     "text": [
      "CPU times: user 1.86 ms, sys: 50 µs, total: 1.91 ms\n",
      "Wall time: 2.2 ms\n"
     ]
    }
   ],
   "source": [
    "%%time\n",
    "ColorMatrix_nb = MyMandelbrotSetGen_nb(w_left, w_right, w_bottom, w_top, NumOfPixels, max_iter)"
   ]
  },
  {
   "cell_type": "markdown",
   "metadata": {},
   "source": [
    "#### And, let's see again:"
   ]
  },
  {
   "cell_type": "code",
   "execution_count": 16,
   "metadata": {},
   "outputs": [
    {
     "name": "stdout",
     "output_type": "stream",
     "text": [
      "CPU times: user 1.87 ms, sys: 5 µs, total: 1.87 ms\n",
      "Wall time: 1.89 ms\n"
     ]
    }
   ],
   "source": [
    "%%time\n",
    "ColorMatrix_nb = MyMandelbrotSetGen_nb(w_left, w_right, w_bottom, w_top, NumOfPixels, max_iter)"
   ]
  },
  {
   "cell_type": "code",
   "execution_count": 17,
   "metadata": {},
   "outputs": [
    {
     "name": "stdout",
     "output_type": "stream",
     "text": [
      "CPU times: user 2.08 ms, sys: 56 µs, total: 2.13 ms\n",
      "Wall time: 2.66 ms\n"
     ]
    }
   ],
   "source": [
    "%%time\n",
    "ColorMatrix_nb = MyMandelbrotSetGen_nb(w_left, w_right, w_bottom, w_top, NumOfPixels, max_iter)"
   ]
  },
  {
   "cell_type": "code",
   "execution_count": 18,
   "metadata": {},
   "outputs": [
    {
     "name": "stdout",
     "output_type": "stream",
     "text": [
      "CPU times: user 1.91 ms, sys: 50 µs, total: 1.96 ms\n",
      "Wall time: 2.01 ms\n"
     ]
    }
   ],
   "source": [
    "%%time\n",
    "ColorMatrix_nb = MyMandelbrotSetGen_nb(w_left, w_right, w_bottom, w_top, NumOfPixels, max_iter)"
   ]
  },
  {
   "cell_type": "markdown",
   "metadata": {},
   "source": [
    "To see the plot, go look at ```MandelbrotSet2.ipynb```."
   ]
  },
  {
   "cell_type": "code",
   "execution_count": null,
   "metadata": {},
   "outputs": [],
   "source": []
  }
 ],
 "metadata": {
  "kernelspec": {
   "display_name": "Python 3",
   "language": "python",
   "name": "python3"
  },
  "language_info": {
   "codemirror_mode": {
    "name": "ipython",
    "version": 3
   },
   "file_extension": ".py",
   "mimetype": "text/x-python",
   "name": "python",
   "nbconvert_exporter": "python",
   "pygments_lexer": "ipython3",
   "version": "3.6.8"
  }
 },
 "nbformat": 4,
 "nbformat_minor": 2
}
